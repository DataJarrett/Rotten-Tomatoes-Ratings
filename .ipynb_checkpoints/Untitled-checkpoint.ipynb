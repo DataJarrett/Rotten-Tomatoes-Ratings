{
 "cells": [
  {
   "cell_type": "code",
   "execution_count": 219,
   "metadata": {},
   "outputs": [],
   "source": [
    "%matplotlib inline\n",
    "\n",
    "import numpy as np\n",
    "import pandas as pd\n",
    "import matplotlib.pyplot as plt\n",
    "import seaborn as sns"
   ]
  },
  {
   "cell_type": "code",
   "execution_count": 236,
   "metadata": {},
   "outputs": [],
   "source": [
    "movies = pd.read_csv('rotten_tomatoes_movies.csv')"
   ]
  },
  {
   "cell_type": "code",
   "execution_count": 238,
   "metadata": {},
   "outputs": [],
   "source": [
    "#data cleaning\n",
    "\n",
    "movies.rating = np.where((movies.rating.str.endswith(\")\")), movies.rating.str.rstrip(\")\"), movies.rating)\n",
    "movies.genre = movies.genre.fillna(\"No Genre\")\n",
    "movies.cast = movies.cast.fillna(\"None listed\")\n",
    "movies.in_theaters_date = movies.in_theaters_date.fillna(\"0\") #so we can convert to int\n",
    "movies.on_streaming_date = movies.on_streaming_date.fillna(\"Cannot stream\")\n",
    "movies.runtime_in_minutes = np.where((movies.movie_title == \"Terror Tract\"), 96, movies.runtime_in_minutes)\n",
    "movies.runtime_in_minutes = np.where((movies.movie_title == \"Love on the Run\"), 94, movies.runtime_in_minutes)\n",
    "movies.in_theaters_date = movies.in_theaters_date.fillna(\"0000-00-00\")\n",
    "movies.runtime_in_minutes = np.where((movies.movie_title == \"The Border\"), 108, movies.runtime_in_minutes)\n",
    "movies.runtime_in_minutes = np.where((movies.movie_title == \"The Prophecy\"), 98, movies.runtime_in_minutes)\n",
    "movies.runtime_in_minutes = np.where((movies.movie_title == \"The Barbarian Invasions (Les Invasions barbares)\"), 99, movies.runtime_in_minutes)\n",
    "movies.runtime_in_minutes = np.where((movies.movie_title == \"Hellraiser: Deader\"), 88, movies.runtime_in_minutes)\n",
    "movies.runtime_in_minutes = np.where((movies.movie_title == \"Hellraiser: Hellseeker\"), 86, movies.runtime_in_minutes)\n",
    "movies.runtime_in_minutes = np.where((movies.movie_title == \"Hellraiser: Hellworld\"), 91, movies.runtime_in_minutes)\n",
    "movies.runtime_in_minutes = np.where((movies.movie_title == \"Rory O'Shea Was Here\"), 104, movies.runtime_in_minutes)\n",
    "\n",
    "movies[\"Release_Year\"] = movies.in_theaters_date.str.split(\"-\").str[0].astype(int)\n",
    "movies[\"Decade\"] = (movies.in_theaters_date.str.split(\"\").str[3] + \"0\")\n",
    "movies.in_theaters_date = pd.to_datetime(movies.in_theaters_date, format='%Y-%m-%d', errors='coerce')\n",
    "movies.on_streaming_date = pd.to_datetime(movies.on_streaming_date, format='%Y-%m-%d', errors='coerce')\n",
    "\n",
    "movies['Stream_delay'] = movies.on_streaming_date.sub(movies.in_theaters_date, axis=0)\n",
    "movies.Stream_delay = movies.Stream_delay.dt.days\n",
    "\n",
    "\n",
    "movies = movies.drop(\"rotten_tomatoes_link\", axis=1)\n",
    "movies = movies.drop(\"poster_image_url\", axis=1)\n",
    "movies = movies.drop(\"movie_info\", axis=1)\n",
    "movies = movies.drop(\"critics_consensus\", axis=1)\n",
    "movies = movies.drop(\"tomatometer_count\", axis=1)\n",
    "movies = movies.drop(\"audience_top_critics_count\", axis=1)\n",
    "movies = movies.drop(\"audience_fresh_critics_count\", axis=1)\n",
    "movies = movies.drop(\"audience_rotten_critics_count\", axis=1)\n",
    "\n",
    "movies = movies.drop_duplicates()"
   ]
  },
  {
   "cell_type": "code",
   "execution_count": 239,
   "metadata": {},
   "outputs": [
    {
     "data": {
      "text/html": [
       "<div>\n",
       "<style scoped>\n",
       "    .dataframe tbody tr th:only-of-type {\n",
       "        vertical-align: middle;\n",
       "    }\n",
       "\n",
       "    .dataframe tbody tr th {\n",
       "        vertical-align: top;\n",
       "    }\n",
       "\n",
       "    .dataframe thead th {\n",
       "        text-align: right;\n",
       "    }\n",
       "</style>\n",
       "<table border=\"1\" class=\"dataframe\">\n",
       "  <thead>\n",
       "    <tr style=\"text-align: right;\">\n",
       "      <th></th>\n",
       "      <th>movie_title</th>\n",
       "      <th>rating</th>\n",
       "      <th>genre</th>\n",
       "      <th>directors</th>\n",
       "      <th>writers</th>\n",
       "      <th>cast</th>\n",
       "      <th>in_theaters_date</th>\n",
       "      <th>on_streaming_date</th>\n",
       "      <th>runtime_in_minutes</th>\n",
       "      <th>studio_name</th>\n",
       "      <th>tomatometer_status</th>\n",
       "      <th>tomatometer_rating</th>\n",
       "      <th>audience_status</th>\n",
       "      <th>audience_rating</th>\n",
       "      <th>audience_count</th>\n",
       "      <th>Release_Year</th>\n",
       "      <th>Decade</th>\n",
       "      <th>Stream_delay</th>\n",
       "    </tr>\n",
       "  </thead>\n",
       "  <tbody>\n",
       "    <tr>\n",
       "      <td>0</td>\n",
       "      <td>Percy Jackson &amp; the Olympians: The Lightning T...</td>\n",
       "      <td>PG</td>\n",
       "      <td>Action &amp; Adventure, Comedy, Drama, Science Fic...</td>\n",
       "      <td>Chris Columbus</td>\n",
       "      <td>Craig Titley</td>\n",
       "      <td>Logan Lerman, Brandon T. Jackson, Alexandra Da...</td>\n",
       "      <td>2010-02-12</td>\n",
       "      <td>2010-06-29</td>\n",
       "      <td>83.0</td>\n",
       "      <td>20th Century Fox</td>\n",
       "      <td>Rotten</td>\n",
       "      <td>49</td>\n",
       "      <td>Spilled</td>\n",
       "      <td>53.0</td>\n",
       "      <td>254287.0</td>\n",
       "      <td>2010</td>\n",
       "      <td>10</td>\n",
       "      <td>137.0</td>\n",
       "    </tr>\n",
       "    <tr>\n",
       "      <td>1</td>\n",
       "      <td>Please Give</td>\n",
       "      <td>R</td>\n",
       "      <td>Comedy</td>\n",
       "      <td>Nicole Holofcener</td>\n",
       "      <td>Nicole Holofcener</td>\n",
       "      <td>Catherine Keener, Amanda Peet, Oliver Platt, R...</td>\n",
       "      <td>2010-04-30</td>\n",
       "      <td>2010-10-19</td>\n",
       "      <td>90.0</td>\n",
       "      <td>Sony Pictures Classics</td>\n",
       "      <td>Certified Fresh</td>\n",
       "      <td>86</td>\n",
       "      <td>Upright</td>\n",
       "      <td>64.0</td>\n",
       "      <td>11567.0</td>\n",
       "      <td>2010</td>\n",
       "      <td>10</td>\n",
       "      <td>172.0</td>\n",
       "    </tr>\n",
       "    <tr>\n",
       "      <td>2</td>\n",
       "      <td>10</td>\n",
       "      <td>R</td>\n",
       "      <td>Comedy, Romance</td>\n",
       "      <td>Blake Edwards</td>\n",
       "      <td>Blake Edwards</td>\n",
       "      <td>Dudley Moore, Bo Derek, Julie Andrews, Robert ...</td>\n",
       "      <td>1979-10-05</td>\n",
       "      <td>1997-08-27</td>\n",
       "      <td>118.0</td>\n",
       "      <td>Waner Bros.</td>\n",
       "      <td>Fresh</td>\n",
       "      <td>68</td>\n",
       "      <td>Spilled</td>\n",
       "      <td>53.0</td>\n",
       "      <td>14670.0</td>\n",
       "      <td>1979</td>\n",
       "      <td>70</td>\n",
       "      <td>6536.0</td>\n",
       "    </tr>\n",
       "    <tr>\n",
       "      <td>3</td>\n",
       "      <td>12 Angry Men (Twelve Angry Men)</td>\n",
       "      <td>NR</td>\n",
       "      <td>Classics, Drama</td>\n",
       "      <td>Sidney Lumet</td>\n",
       "      <td>Reginald Rose</td>\n",
       "      <td>Martin Balsam, John Fiedler, Lee J. Cobb, E.G....</td>\n",
       "      <td>1957-04-13</td>\n",
       "      <td>2001-03-06</td>\n",
       "      <td>95.0</td>\n",
       "      <td>Criterion Collection</td>\n",
       "      <td>Certified Fresh</td>\n",
       "      <td>100</td>\n",
       "      <td>Upright</td>\n",
       "      <td>97.0</td>\n",
       "      <td>105000.0</td>\n",
       "      <td>1957</td>\n",
       "      <td>50</td>\n",
       "      <td>16033.0</td>\n",
       "    </tr>\n",
       "    <tr>\n",
       "      <td>4</td>\n",
       "      <td>20,000 Leagues Under The Sea</td>\n",
       "      <td>G</td>\n",
       "      <td>Action &amp; Adventure, Drama, Kids &amp; Family</td>\n",
       "      <td>Richard Fleischer</td>\n",
       "      <td>Earl Felton</td>\n",
       "      <td>James Mason, Kirk Douglas, Paul Lukas, Peter L...</td>\n",
       "      <td>1954-01-01</td>\n",
       "      <td>2003-05-20</td>\n",
       "      <td>127.0</td>\n",
       "      <td>Disney</td>\n",
       "      <td>Fresh</td>\n",
       "      <td>89</td>\n",
       "      <td>Upright</td>\n",
       "      <td>74.0</td>\n",
       "      <td>68860.0</td>\n",
       "      <td>1954</td>\n",
       "      <td>50</td>\n",
       "      <td>18036.0</td>\n",
       "    </tr>\n",
       "  </tbody>\n",
       "</table>\n",
       "</div>"
      ],
      "text/plain": [
       "                                         movie_title rating  \\\n",
       "0  Percy Jackson & the Olympians: The Lightning T...     PG   \n",
       "1                                        Please Give      R   \n",
       "2                                                 10      R   \n",
       "3                    12 Angry Men (Twelve Angry Men)     NR   \n",
       "4                       20,000 Leagues Under The Sea      G   \n",
       "\n",
       "                                               genre          directors  \\\n",
       "0  Action & Adventure, Comedy, Drama, Science Fic...     Chris Columbus   \n",
       "1                                             Comedy  Nicole Holofcener   \n",
       "2                                    Comedy, Romance      Blake Edwards   \n",
       "3                                    Classics, Drama       Sidney Lumet   \n",
       "4           Action & Adventure, Drama, Kids & Family  Richard Fleischer   \n",
       "\n",
       "             writers                                               cast  \\\n",
       "0       Craig Titley  Logan Lerman, Brandon T. Jackson, Alexandra Da...   \n",
       "1  Nicole Holofcener  Catherine Keener, Amanda Peet, Oliver Platt, R...   \n",
       "2      Blake Edwards  Dudley Moore, Bo Derek, Julie Andrews, Robert ...   \n",
       "3      Reginald Rose  Martin Balsam, John Fiedler, Lee J. Cobb, E.G....   \n",
       "4        Earl Felton  James Mason, Kirk Douglas, Paul Lukas, Peter L...   \n",
       "\n",
       "  in_theaters_date on_streaming_date  runtime_in_minutes  \\\n",
       "0       2010-02-12        2010-06-29                83.0   \n",
       "1       2010-04-30        2010-10-19                90.0   \n",
       "2       1979-10-05        1997-08-27               118.0   \n",
       "3       1957-04-13        2001-03-06                95.0   \n",
       "4       1954-01-01        2003-05-20               127.0   \n",
       "\n",
       "              studio_name tomatometer_status  tomatometer_rating  \\\n",
       "0        20th Century Fox             Rotten                  49   \n",
       "1  Sony Pictures Classics    Certified Fresh                  86   \n",
       "2             Waner Bros.              Fresh                  68   \n",
       "3    Criterion Collection    Certified Fresh                 100   \n",
       "4                  Disney              Fresh                  89   \n",
       "\n",
       "  audience_status  audience_rating  audience_count  Release_Year Decade  \\\n",
       "0         Spilled             53.0        254287.0          2010     10   \n",
       "1         Upright             64.0         11567.0          2010     10   \n",
       "2         Spilled             53.0         14670.0          1979     70   \n",
       "3         Upright             97.0        105000.0          1957     50   \n",
       "4         Upright             74.0         68860.0          1954     50   \n",
       "\n",
       "   Stream_delay  \n",
       "0         137.0  \n",
       "1         172.0  \n",
       "2        6536.0  \n",
       "3       16033.0  \n",
       "4       18036.0  "
      ]
     },
     "execution_count": 239,
     "metadata": {},
     "output_type": "execute_result"
    }
   ],
   "source": [
    "movies.head()"
   ]
  },
  {
   "cell_type": "code",
   "execution_count": 234,
   "metadata": {},
   "outputs": [
    {
     "data": {
      "text/html": [
       "<div>\n",
       "<style scoped>\n",
       "    .dataframe tbody tr th:only-of-type {\n",
       "        vertical-align: middle;\n",
       "    }\n",
       "\n",
       "    .dataframe tbody tr th {\n",
       "        vertical-align: top;\n",
       "    }\n",
       "\n",
       "    .dataframe thead th {\n",
       "        text-align: right;\n",
       "    }\n",
       "</style>\n",
       "<table border=\"1\" class=\"dataframe\">\n",
       "  <thead>\n",
       "    <tr style=\"text-align: right;\">\n",
       "      <th></th>\n",
       "      <th>movie_title</th>\n",
       "      <th>rating</th>\n",
       "      <th>genre</th>\n",
       "      <th>directors</th>\n",
       "      <th>writers</th>\n",
       "      <th>cast</th>\n",
       "      <th>in_theaters_date</th>\n",
       "      <th>on_streaming_date</th>\n",
       "      <th>runtime_in_minutes</th>\n",
       "      <th>studio_name</th>\n",
       "      <th>tomatometer_status</th>\n",
       "      <th>tomatometer_rating</th>\n",
       "      <th>audience_status</th>\n",
       "      <th>audience_rating</th>\n",
       "      <th>audience_count</th>\n",
       "      <th>Release_Year</th>\n",
       "      <th>Decade</th>\n",
       "      <th>Stream_delay</th>\n",
       "    </tr>\n",
       "  </thead>\n",
       "  <tbody>\n",
       "    <tr>\n",
       "      <td>509</td>\n",
       "      <td>Intolerance</td>\n",
       "      <td>PG</td>\n",
       "      <td>Classics</td>\n",
       "      <td>D.W. Griffith</td>\n",
       "      <td>D.W. Griffith, Tod Browning</td>\n",
       "      <td>Lillian Gish, Mae Marsh, Robert Harron, Consta...</td>\n",
       "      <td>1916-09-05</td>\n",
       "      <td>2002-12-10</td>\n",
       "      <td>175.0</td>\n",
       "      <td>Cohen Media Group</td>\n",
       "      <td>Fresh</td>\n",
       "      <td>97</td>\n",
       "      <td>Upright</td>\n",
       "      <td>77.0</td>\n",
       "      <td>4894.0</td>\n",
       "      <td>1916</td>\n",
       "      <td>10</td>\n",
       "      <td>31507.0</td>\n",
       "    </tr>\n",
       "    <tr>\n",
       "      <td>3442</td>\n",
       "      <td>The Birth of a Nation</td>\n",
       "      <td>G</td>\n",
       "      <td>Classics, Drama</td>\n",
       "      <td>D.W. Griffith</td>\n",
       "      <td>Frank Woods, D.W. Griffith, Frank E. Woods, Th...</td>\n",
       "      <td>Henry B. Walthall, Lillian Gish, Mae Marsh, Mi...</td>\n",
       "      <td>1915-03-03</td>\n",
       "      <td>2004-06-29</td>\n",
       "      <td>192.0</td>\n",
       "      <td>Gravitas</td>\n",
       "      <td>Fresh</td>\n",
       "      <td>98</td>\n",
       "      <td>Spilled</td>\n",
       "      <td>56.0</td>\n",
       "      <td>4757.0</td>\n",
       "      <td>1915</td>\n",
       "      <td>10</td>\n",
       "      <td>32626.0</td>\n",
       "    </tr>\n",
       "    <tr>\n",
       "      <td>3999</td>\n",
       "      <td>Cabiria</td>\n",
       "      <td>NR</td>\n",
       "      <td>Art House &amp; International, Classics, Drama</td>\n",
       "      <td>Giovanni Pastrone</td>\n",
       "      <td>Gabriele D'Annunzio</td>\n",
       "      <td>Alex Bernard, Italia Almirante-Manzini, Lidia ...</td>\n",
       "      <td>1914-06-01</td>\n",
       "      <td>2000-11-07</td>\n",
       "      <td>181.0</td>\n",
       "      <td>Itala Film</td>\n",
       "      <td>Fresh</td>\n",
       "      <td>100</td>\n",
       "      <td>Upright</td>\n",
       "      <td>69.0</td>\n",
       "      <td>1151.0</td>\n",
       "      <td>1914</td>\n",
       "      <td>10</td>\n",
       "      <td>31571.0</td>\n",
       "    </tr>\n",
       "    <tr>\n",
       "      <td>6232</td>\n",
       "      <td>A Fool There Was</td>\n",
       "      <td>NR</td>\n",
       "      <td>Classics, Drama</td>\n",
       "      <td>Frank Powell, Clarence G. Badger</td>\n",
       "      <td>Roy L. McCardell, Frank Powell</td>\n",
       "      <td>Mabel Frenyer, Theda Bara, Baby Runa Hodges, E...</td>\n",
       "      <td>1915-01-01</td>\n",
       "      <td>2002-04-02</td>\n",
       "      <td>75.0</td>\n",
       "      <td>Box Office Attractions</td>\n",
       "      <td>Fresh</td>\n",
       "      <td>80</td>\n",
       "      <td>Spilled</td>\n",
       "      <td>56.0</td>\n",
       "      <td>1218.0</td>\n",
       "      <td>1915</td>\n",
       "      <td>10</td>\n",
       "      <td>31868.0</td>\n",
       "    </tr>\n",
       "  </tbody>\n",
       "</table>\n",
       "</div>"
      ],
      "text/plain": [
       "                movie_title rating  \\\n",
       "509             Intolerance     PG   \n",
       "3442  The Birth of a Nation      G   \n",
       "3999                Cabiria     NR   \n",
       "6232       A Fool There Was     NR   \n",
       "\n",
       "                                           genre  \\\n",
       "509                                     Classics   \n",
       "3442                             Classics, Drama   \n",
       "3999  Art House & International, Classics, Drama   \n",
       "6232                             Classics, Drama   \n",
       "\n",
       "                             directors  \\\n",
       "509                      D.W. Griffith   \n",
       "3442                     D.W. Griffith   \n",
       "3999                 Giovanni Pastrone   \n",
       "6232  Frank Powell, Clarence G. Badger   \n",
       "\n",
       "                                                writers  \\\n",
       "509                         D.W. Griffith, Tod Browning   \n",
       "3442  Frank Woods, D.W. Griffith, Frank E. Woods, Th...   \n",
       "3999                                Gabriele D'Annunzio   \n",
       "6232                     Roy L. McCardell, Frank Powell   \n",
       "\n",
       "                                                   cast in_theaters_date  \\\n",
       "509   Lillian Gish, Mae Marsh, Robert Harron, Consta...       1916-09-05   \n",
       "3442  Henry B. Walthall, Lillian Gish, Mae Marsh, Mi...       1915-03-03   \n",
       "3999  Alex Bernard, Italia Almirante-Manzini, Lidia ...       1914-06-01   \n",
       "6232  Mabel Frenyer, Theda Bara, Baby Runa Hodges, E...       1915-01-01   \n",
       "\n",
       "     on_streaming_date  runtime_in_minutes             studio_name  \\\n",
       "509         2002-12-10               175.0       Cohen Media Group   \n",
       "3442        2004-06-29               192.0                Gravitas   \n",
       "3999        2000-11-07               181.0              Itala Film   \n",
       "6232        2002-04-02                75.0  Box Office Attractions   \n",
       "\n",
       "     tomatometer_status  tomatometer_rating audience_status  audience_rating  \\\n",
       "509               Fresh                  97         Upright             77.0   \n",
       "3442              Fresh                  98         Spilled             56.0   \n",
       "3999              Fresh                 100         Upright             69.0   \n",
       "6232              Fresh                  80         Spilled             56.0   \n",
       "\n",
       "      audience_count  Release_Year Decade  Stream_delay  \n",
       "509           4894.0          1916     10       31507.0  \n",
       "3442          4757.0          1915     10       32626.0  \n",
       "3999          1151.0          1914     10       31571.0  \n",
       "6232          1218.0          1915     10       31868.0  "
      ]
     },
     "execution_count": 234,
     "metadata": {},
     "output_type": "execute_result"
    }
   ],
   "source": [
    "movies[(movies.Release_Year < 1919) & (movies.Release_Year > 1909)] #ignore this decade"
   ]
  },
  {
   "cell_type": "code",
   "execution_count": 188,
   "metadata": {},
   "outputs": [
    {
     "name": "stderr",
     "output_type": "stream",
     "text": [
      "C:\\Users\\lewis\\Anaconda3\\lib\\site-packages\\ipykernel_launcher.py:1: UserWarning: Boolean Series key will be reindexed to match DataFrame index.\n",
      "  \"\"\"Entry point for launching an IPython kernel.\n"
     ]
    },
    {
     "data": {
      "text/plain": [
       "<matplotlib.axes._subplots.AxesSubplot at 0x1e948db3408>"
      ]
     },
     "execution_count": 188,
     "metadata": {},
     "output_type": "execute_result"
    },
    {
     "data": {
      "image/png": "[encoded data removed]",
      "text/plain": [
       "<Figure size 720x720 with 1 Axes>"
      ]
     },
     "metadata": {
      "needs_background": "light"
     },
     "output_type": "display_data"
    }
   ],
   "source": [
    "#DELAY BETWEEN RELEASE AND STREAMING SINCE 2009\n",
    "stream_delay = movies[movies.Stream_delay >= 0]\n",
    "ignoring10s = stream_delay[(movies.Release_Year > 2008)]\n",
    "Year = ignoring10s.groupby(\"Release_Year\")\n",
    "yearstreams = Year[\"Stream_delay\"].mean()\n",
    "yearstreams.plot(kind=\"line\", figsize = (10,10))"
   ]
  },
  {
   "cell_type": "code",
   "execution_count": 217,
   "metadata": {},
   "outputs": [
    {
     "data": {
      "text/plain": [
       "count    16455.000000\n",
       "mean       102.429960\n",
       "std         19.576585\n",
       "min         31.000000\n",
       "25%         90.000000\n",
       "50%         99.000000\n",
       "75%        111.000000\n",
       "max        480.000000\n",
       "Name: runtime_in_minutes, dtype: float64"
      ]
     },
     "execution_count": 217,
     "metadata": {},
     "output_type": "execute_result"
    }
   ],
   "source": [
    "#runtime variance\n",
    "runtime = movies[movies.runtime_in_minutes > 30]\n",
    "runtime.runtime_in_minutes.describe()"
   ]
  },
  {
   "cell_type": "code",
   "execution_count": 64,
   "metadata": {},
   "outputs": [
    {
     "data": {
      "text/plain": [
       "119061589.0"
      ]
     },
     "execution_count": 64,
     "metadata": {},
     "output_type": "execute_result"
    }
   ],
   "source": [
    "#ignore\n",
    "movies2010 = movies[movies.Release_Year > 2009]\n",
    "movies2010.audience_count.sum()"
   ]
  },
  {
   "cell_type": "code",
   "execution_count": 65,
   "metadata": {},
   "outputs": [
    {
     "data": {
      "text/plain": [
       "423048915.0"
      ]
     },
     "execution_count": 65,
     "metadata": {},
     "output_type": "execute_result"
    }
   ],
   "source": [
    "#ignore\n",
    "movies1990 = movies[movies.Decade == \"90\"]\n",
    "movies1990.audience_count.sum()"
   ]
  },
  {
   "cell_type": "code",
   "execution_count": 46,
   "metadata": {},
   "outputs": [
    {
     "data": {
      "text/plain": [
       "<matplotlib.axes._subplots.AxesSubplot at 0x1e93cbb4e08>"
      ]
     },
     "execution_count": 46,
     "metadata": {},
     "output_type": "execute_result"
    },
    {
     "data": {
      "image/png": "[encoded data removed]",
      "text/plain": [
       "<Figure size 432x288 with 1 Axes>"
      ]
     },
     "metadata": {
      "needs_background": "light"
     },
     "output_type": "display_data"
    }
   ],
   "source": [
    "#compares audience and critic ratings over decades\n",
    "\n",
    "ignoring10s = movies[(movies.Release_Year > 1919) & (movies.Release_Year < 2010)]\n",
    "decade = ignoring10s.groupby(\"Decade\")\n",
    "decaderatings = decade[[\"tomatometer_rating\", \"audience_rating\"]].mean()\n",
    "decaderatings.plot(kind=\"line\")\n",
    "\n",
    "#can see trend rising back up in 2000s, would like to put 2000s at other end of graph"
   ]
  },
  {
   "cell_type": "code",
   "execution_count": 222,
   "metadata": {},
   "outputs": [
    {
     "name": "stderr",
     "output_type": "stream",
     "text": [
      "C:\\Users\\lewis\\Anaconda3\\lib\\site-packages\\ipykernel_launcher.py:2: UserWarning: Boolean Series key will be reindexed to match DataFrame index.\n",
      "  \n"
     ]
    },
    {
     "data": {
      "text/plain": [
       "<matplotlib.axes._subplots.AxesSubplot at 0x1e94ddf4408>"
      ]
     },
     "execution_count": 222,
     "metadata": {},
     "output_type": "execute_result"
    },
    {
     "data": {
      "image/png": "[encoded data removed]",
      "text/plain": [
       "<Figure size 720x720 with 1 Axes>"
      ]
     },
     "metadata": {
      "needs_background": "light"
     },
     "output_type": "display_data"
    }
   ],
   "source": [
    "stream_delay = movies[movies.Stream_delay >= 0]\n",
    "ignoring10s = stream_delay[(movies.Release_Year > 2008)]\n",
    "Year = ignoring10s.groupby(\"Release_Year\")\n",
    "yearratings = Year[\"tomatometer_rating\", \"audience_rating\"].mean()\n",
    "yearratings.plot(kind=\"line\", figsize = (10,10))"
   ]
  },
  {
   "cell_type": "code",
   "execution_count": 10,
   "metadata": {},
   "outputs": [
    {
     "data": {
      "text/plain": [
       "<matplotlib.axes._subplots.AxesSubplot at 0x1e939385c48>"
      ]
     },
     "execution_count": 10,
     "metadata": {},
     "output_type": "execute_result"
    },
    {
     "data": {
      "image/png": "[encoded data removed]",
      "text/plain": [
       "<Figure size 432x288 with 1 Axes>"
      ]
     },
     "metadata": {
      "needs_background": "light"
     },
     "output_type": "display_data"
    }
   ],
   "source": [
    "#compares audience number with decades\n",
    "\n",
    "#compare views and ratings - were the 90s the worst decade of movies?\n",
    "ignoring10s = movies[(movies.Release_Year > 1919) & (movies.Release_Year < 2010)]\n",
    "decade = ignoring10s.groupby(\"Decade\")\n",
    "decadeviews = decade[[\"audience_count\"]].sum()\n",
    "decadeviews.plot(kind=\"line\", color = 'r')\n",
    "#lack of information for 2010+? would like to start from 20 and go up"
   ]
  },
  {
   "cell_type": "code",
   "execution_count": 63,
   "metadata": {},
   "outputs": [
    {
     "data": {
      "text/html": [
       "<div>\n",
       "<style scoped>\n",
       "    .dataframe tbody tr th:only-of-type {\n",
       "        vertical-align: middle;\n",
       "    }\n",
       "\n",
       "    .dataframe tbody tr th {\n",
       "        vertical-align: top;\n",
       "    }\n",
       "\n",
       "    .dataframe thead th {\n",
       "        text-align: right;\n",
       "    }\n",
       "</style>\n",
       "<table border=\"1\" class=\"dataframe\">\n",
       "  <thead>\n",
       "    <tr style=\"text-align: right;\">\n",
       "      <th></th>\n",
       "      <th>audience_count</th>\n",
       "      <th>tomatometer_rating</th>\n",
       "    </tr>\n",
       "  </thead>\n",
       "  <tbody>\n",
       "    <tr>\n",
       "      <td>audience_count</td>\n",
       "      <td>1.000000</td>\n",
       "      <td>-0.681605</td>\n",
       "    </tr>\n",
       "    <tr>\n",
       "      <td>tomatometer_rating</td>\n",
       "      <td>-0.681605</td>\n",
       "      <td>1.000000</td>\n",
       "    </tr>\n",
       "  </tbody>\n",
       "</table>\n",
       "</div>"
      ],
      "text/plain": [
       "                    audience_count  tomatometer_rating\n",
       "audience_count            1.000000           -0.681605\n",
       "tomatometer_rating       -0.681605            1.000000"
      ]
     },
     "execution_count": 63,
     "metadata": {},
     "output_type": "execute_result"
    }
   ],
   "source": [
    "#correlation between audience count and audience rating\n",
    "ignoring10s = movies[(movies.Release_Year > 1919) & (movies.Release_Year < 2010)]\n",
    "#missing audience data for 2010+\n",
    "decade = ignoring10s.groupby(\"Decade\")\n",
    "decadeviewsandratings = decade[[\"audience_count\", \"tomatometer_rating\"]].mean()\n",
    "decadeviewsandratings.corr() #pretty strong"
   ]
  },
  {
   "cell_type": "code",
   "execution_count": 17,
   "metadata": {},
   "outputs": [
    {
     "data": {
      "text/plain": [
       "<matplotlib.axes._subplots.AxesSubplot at 0x1e938263ec8>"
      ]
     },
     "execution_count": 17,
     "metadata": {},
     "output_type": "execute_result"
    },
    {
     "data": {
      "image/png": "[encoded data removed]",
      "text/plain": [
       "<Figure size 720x720 with 1 Axes>"
      ]
     },
     "metadata": {
      "needs_background": "light"
     },
     "output_type": "display_data"
    }
   ],
   "source": [
    "#This is audience ratings throughout the decades\n",
    "\n",
    "ignoring1910s = movies[movies.Release_Year > 1919]\n",
    "decade = ignoring1910s.groupby(\"Decade\")\n",
    "decadestatus = decade.audience_status.value_counts()\n",
    "decadestatus.plot(kind=\"bar\", color = 'y', figsize = (10,10))\n",
    "\n",
    "#2010 only decade to have more bad movies than good?\n",
    "#perhaps make upright as a percentage of films and only show that?\n"
   ]
  },
  {
   "cell_type": "code",
   "execution_count": 224,
   "metadata": {},
   "outputs": [
    {
     "data": {
      "text/plain": [
       "<matplotlib.axes._subplots.AxesSubplot at 0x1e94b49e788>"
      ]
     },
     "execution_count": 224,
     "metadata": {},
     "output_type": "execute_result"
    },
    {
     "data": {
      "image/png": "[encoded data removed]",
      "text/plain": [
       "<Figure size 864x864 with 1 Axes>"
      ]
     },
     "metadata": {
      "needs_background": "light"
     },
     "output_type": "display_data"
    }
   ],
   "source": [
    "#Critic ratings throughout the decades\n",
    "ignoring10s = movies[(movies.Release_Year > 1919)]\n",
    "decade = ignoring10s.groupby(\"Decade\")\n",
    "decadestatus2 = decade.tomatometer_status.value_counts()\n",
    "decadestatus2.plot(kind=\"bar\", figsize=(12,12))"
   ]
  },
  {
   "cell_type": "code",
   "execution_count": 4,
   "metadata": {},
   "outputs": [
    {
     "data": {
      "text/plain": [
       "writers\n",
       "A. Dean Bell                                                       68.0\n",
       "A.B. Guthrie Jr., Jack Sher                                        97.0\n",
       "A.I. Bezzerides                                                   100.0\n",
       "A.I. Bezzerides, Nicholas Ray                                      94.0\n",
       "A.J. Carothers                                                     50.0\n",
       "                                                                  ...  \n",
       "Álex de la Iglesia, Jorge Guerricaechevarría                       49.5\n",
       "Álvaro Rodríguez                                                   60.0\n",
       "Émile Gaudreault, Steve Galluccio                                  32.0\n",
       "Émile Gaudreault, Sylvie Bouchard, Lowell Ganz, Babaloo Mandel     64.0\n",
       "Éva Gárdos                                                         55.0\n",
       "Name: tomatometer_rating, Length: 12121, dtype: float64"
      ]
     },
     "execution_count": 4,
     "metadata": {},
     "output_type": "execute_result"
    }
   ],
   "source": [
    "#ignore\n",
    "writers = movies.groupby(\"writers\")\n",
    "writers[\"tomatometer_rating\"].mean()"
   ]
  },
  {
   "cell_type": "code",
   "execution_count": 243,
   "metadata": {},
   "outputs": [
    {
     "data": {
      "image/png": "[encoded data removed]",
      "text/plain": [
       "<Figure size 720x720 with 1 Axes>"
      ]
     },
     "metadata": {},
     "output_type": "display_data"
    }
   ],
   "source": [
    "#THIS SHOWS RATINGS ACROSS DECADES\n",
    "\n",
    "def DecadeRating(decade):\n",
    "    moviedecade = movies[(movies.Release_Year > (1899 + decade )) & (movies.Release_Year < (1910 + decade))]\n",
    "    Rating = moviedecade.rating.value_counts().plot(kind='pie', figsize = (10,10))\n",
    "    Rating.set_title('Ratings in the ' + str(decade) + \"s\", fontsize=15)\n",
    "    Rating.set_ylabel('')\n",
    "\n",
    "DecadeRating(80)\n",
    "#perhaps a line chart for comparison?"
   ]
  },
  {
   "cell_type": "code",
   "execution_count": 31,
   "metadata": {},
   "outputs": [
    {
     "data": {
      "text/plain": [
       "Paramount Pictures          497\n",
       "Warner Bros. Pictures       492\n",
       "Universal Pictures          469\n",
       "20th Century Fox            414\n",
       "IFC Films                   398\n",
       "                           ... \n",
       "Monica Beach Enterprises      1\n",
       "KinoNation                    1\n",
       "FilmWorks Entertainment       1\n",
       "NEON/Hulu                     1\n",
       "Peace Arch Films              1\n",
       "Name: studio_name, Length: 2886, dtype: int64"
      ]
     },
     "execution_count": 31,
     "metadata": {},
     "output_type": "execute_result"
    }
   ],
   "source": [
    "#STUDIO\n",
    "\n",
    "movies.studio_name.value_counts()"
   ]
  },
  {
   "cell_type": "code",
   "execution_count": 24,
   "metadata": {},
   "outputs": [
    {
     "data": {
      "text/plain": [
       "Woody Allen                          36\n",
       "Alfred Hitchcock                     36\n",
       "Clint Eastwood                       35\n",
       "Steven Spielberg                     32\n",
       "Sidney Lumet                         30\n",
       "                                     ..\n",
       "Suri Krishnamma                       1\n",
       "Nick Whitfield                        1\n",
       "Ellen Kuras, Thavisouk Phrasavath     1\n",
       "Serge Bromberg, Ruxandra Medrea       1\n",
       "Fred Grivois                          1\n",
       "Name: directors, Length: 8314, dtype: int64"
      ]
     },
     "execution_count": 24,
     "metadata": {},
     "output_type": "execute_result"
    }
   ],
   "source": [
    "#DIRECTORS\n",
    "\n",
    "movies.directors.value_counts()"
   ]
  },
  {
   "cell_type": "code",
   "execution_count": 39,
   "metadata": {},
   "outputs": [
    {
     "data": {
      "text/plain": [
       "[Woody Allen]                               33\n",
       "[Werner Herzog]                             19\n",
       "[Tyler Perry]                               19\n",
       "[Neil Simon]                                19\n",
       "[Ingmar Bergman]                            18\n",
       "                                            ..\n",
       "[Patrick Horvath, Dallas Richard Hallam]     1\n",
       "[Simon Rose, Declan Hughes, John Brown]      1\n",
       "[Dudley Nichols, Philip Dunne]               1\n",
       "[Tamzin Rafn]                                1\n",
       "[Andrew J. Smith, Alex Smith]                1\n",
       "Name: writers, Length: 12121, dtype: int64"
      ]
     },
     "execution_count": 39,
     "metadata": {},
     "output_type": "execute_result"
    }
   ],
   "source": [
    "#THIS COUNTS WRITERS\n",
    "\n",
    "movies.writers.value_counts()"
   ]
  },
  {
   "cell_type": "code",
   "execution_count": 17,
   "metadata": {},
   "outputs": [
    {
     "data": {
      "text/plain": [
       "Drama                        9005\n",
       "Comedy                       5385\n",
       "Action & Adventure           3353\n",
       "Mystery & Suspense           3331\n",
       "Art House & International    2407\n",
       "Documentary                  1916\n",
       "Horror                       1905\n",
       "Romance                      1807\n",
       "Science Fiction & Fantasy    1743\n",
       "Classics                     1578\n",
       "Special Interest             1219\n",
       "Kids & Family                1067\n",
       "Musical & Performing Arts     976\n",
       "Animation                     565\n",
       "Western                       283\n",
       "Television                    258\n",
       "Sports & Fitness              175\n",
       "Cult Movies                   100\n",
       "Faith & Spirituality           78\n",
       "Gay & Lesbian                  68\n",
       "No Genre                       17\n",
       "Anime & Manga                  15\n",
       "dtype: int64"
      ]
     },
     "execution_count": 17,
     "metadata": {},
     "output_type": "execute_result"
    }
   ],
   "source": [
    "#THIS COUNTS GENRES\n",
    "\n",
    "movies.genre = movies.genre.str.split(\", \")\n",
    "genres = movies.genre #counting the number each time a genre appears, how about in a decade etc? effort but could do\n",
    "counting_genres = pd.Series(sum([item for item in genres], [])).value_counts()\n",
    "counting_genres"
   ]
  },
  {
   "cell_type": "code",
   "execution_count": 42,
   "metadata": {},
   "outputs": [
    {
     "data": {
      "text/plain": [
       "None listed           284\n",
       "Jr.                   115\n",
       "Samuel L. Jackson     105\n",
       "Bruce Willis           87\n",
       "Robert De Niro         87\n",
       "                     ... \n",
       "Samantha Reed           1\n",
       "Wolfgang Kuhnemann      1\n",
       "Dominic Carter          1\n",
       "Thomas Rothman          1\n",
       "Bill Brooks             1\n",
       "Length: 198667, dtype: int64"
      ]
     },
     "execution_count": 42,
     "metadata": {},
     "output_type": "execute_result"
    }
   ],
   "source": [
    "#THIS COUNTS ALL ACTORS IN MOVIES\n",
    "\n",
    "movies.cast = movies.cast.str.split(\", \") #takes far too long to run #perhaps ignore one-time appearances? but can't ignore\n",
    "#one-time appearances until they've been counted.... >>\n",
    "\n",
    "cast = movies.cast \n",
    "counting_cast = pd.Series(sum([item for item in cast], [])).value_counts()\n",
    "counting_cast\n"
   ]
  }
 ],
 "metadata": {
  "kernelspec": {
   "display_name": "Python 3",
   "language": "python",
   "name": "python3"
  },
  "language_info": {
   "codemirror_mode": {
    "name": "ipython",
    "version": 3
   },
   "file_extension": ".py",
   "mimetype": "text/x-python",
   "name": "python",
   "nbconvert_exporter": "python",
   "pygments_lexer": "ipython3",
   "version": "3.7.4"
  }
 },
 "nbformat": 4,
 "nbformat_minor": 2
}
